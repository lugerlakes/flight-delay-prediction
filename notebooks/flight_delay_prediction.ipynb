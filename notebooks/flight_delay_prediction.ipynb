{
 "cells": [
  {
   "cell_type": "markdown",
   "id": "800fc665",
   "metadata": {},
   "source": [
    "# ✈️ Flight Delay Prediction – Santiago Airport (SCL)\n",
    "This project aims to predict the probability of a flight being delayed by more than 15 minutes using flight data from Santiago de Chile International Airport (SCL) during 2017."
   ]
  },
  {
   "cell_type": "code",
   "execution_count": null,
   "id": "91c72c29",
   "metadata": {},
   "outputs": [],
   "source": [
    "# Standard libraries\n",
    "import pandas as pd\n",
    "import numpy as np\n",
    "import matplotlib.pyplot as plt\n",
    "import seaborn as sns\n",
    "\n",
    "# Project modules\n",
    "from src.data.load_data import load_raw_data\n",
    "from src.data.preprocess import parse_dates, clean_column_names\n",
    "from src.features.build_features import build_synthetic_features\n",
    "from src.visualization.visualize import (\n",
    "    plot_delay_rate_by_column,\n",
    "    plot_count_by_column,\n",
    "    plot_delay_distribution,\n",
    "    plot_delay_rate_by_two_categories\n",
    ")"
   ]
  },
  {
   "cell_type": "markdown",
   "id": "09729087",
   "metadata": {},
   "source": [
    "## 📥 3. Data Loading and Initial Inspection"
   ]
  },
  {
   "cell_type": "code",
   "execution_count": null,
   "id": "071e15e5",
   "metadata": {},
   "outputs": [],
   "source": [
    "# Load and prepare data\n",
    "df = load_raw_data()\n",
    "df = parse_dates(df)\n",
    "df = clean_column_names(df)\n",
    "\n",
    "# Preview\n",
    "df.head()"
   ]
  },
  {
   "cell_type": "markdown",
   "id": "0f1b27c6",
   "metadata": {},
   "source": [
    "## 🔍 4. Data Overview"
   ]
  },
  {
   "cell_type": "code",
   "execution_count": null,
   "id": "2efe8563",
   "metadata": {},
   "outputs": [],
   "source": [
    "df.info()\n",
    "df.describe(include='all')\n",
    "df.isnull().sum()\n"
   ]
  },
  {
   "cell_type": "markdown",
   "id": "1305529e",
   "metadata": {},
   "source": [
    "## 🛠️ 5. Feature Engineering"
   ]
  },
  {
   "cell_type": "code",
   "execution_count": null,
   "id": "ef49f7f5",
   "metadata": {},
   "outputs": [],
   "source": [
    "df = build_synthetic_features(df)\n",
    "\n",
    "# Preview engineered features\n",
    "df[[\"fecha_i\", \"fecha_o\", \"min_diff\", \"delay_15\", \"high_season\", \"period_day\"]].head()\n"
   ]
  },
  {
   "cell_type": "markdown",
   "id": "1b98d27f",
   "metadata": {},
   "source": [
    "## 📊 6. Exploratory Data Analysis (EDA)"
   ]
  },
  {
   "cell_type": "code",
   "execution_count": null,
   "id": "96709102",
   "metadata": {},
   "outputs": [],
   "source": [
    "# Delay distribution\n",
    "plot_delay_distribution(df)\n",
    "\n",
    "# Delay rate by airline\n",
    "plot_delay_rate_by_column(df, \"opera\")\n",
    "\n",
    "# Delay rate by destination\n",
    "plot_delay_rate_by_column(df, \"siglades\")\n",
    "\n",
    "# Flight counts by time of day\n",
    "plot_count_by_column(df, \"period_day\")\n",
    "\n",
    "# Delay rate by airline and flight type\n",
    "plot_delay_rate_by_two_categories(df, \"opera\", \"tipovuelo\", top_n=10)\n",
    "\n",
    "# Delay rate by destination and high season\n",
    "plot_delay_rate_by_two_categories(df, \"siglades\", \"high_season\", top_n=10)\n"
   ]
  },
  {
   "cell_type": "markdown",
   "id": "91c544cf",
   "metadata": {},
   "source": [
    "## 🤖 Predictive Modeling"
   ]
  },
  {
   "cell_type": "markdown",
   "id": "49292ba6",
   "metadata": {},
   "source": [
    "This section will introduce supervised models (e.g., Random Forest, Logistic Regression, or XGBoost) to predict whether a flight is delayed over 15 minutes.\n",
    "\n",
    "Models will be evaluated using classification metrics such as:\n",
    "- Accuracy\n",
    "- Precision / Recall\n",
    "- F1-score\n",
    "- ROC-AUC"
   ]
  },
  {
   "cell_type": "code",
   "execution_count": null,
   "id": "b1acb8a3",
   "metadata": {},
   "outputs": [],
   "source": [
    "from src.models.train_model import train_model\n",
    "\n",
    "# Train Random Forest model\n",
    "model, X_test, y_test, y_pred = train_model(df, model_type=\"random_forest\")\n",
    "\n",
    "\n"
   ]
  },
  {
   "cell_type": "markdown",
   "id": "4a77fff3",
   "metadata": {},
   "source": [
    "## 📉 Plot Evaluation Metrics"
   ]
  },
  {
   "cell_type": "code",
   "execution_count": null,
   "id": "9c5f5561",
   "metadata": {},
   "outputs": [],
   "source": [
    "from src.models.evaluate_model import plot_confusion_matrix, plot_roc_curve\n",
    "\n",
    "# Predicted probabilities for ROC\n",
    "y_proba = model.predict_proba(X_test)[:, 1]\n",
    "\n",
    "# Plot evaluation visuals\n",
    "plot_confusion_matrix(y_test, y_pred, labels=[\"No Delay\", \"Delay\"], title=\"Confusion Matrix – Random Forest\")\n",
    "plot_roc_curve(y_test, y_proba, title=\"ROC Curve – Random Forest\")\n"
   ]
  },
  {
   "cell_type": "markdown",
   "id": "332e486f",
   "metadata": {},
   "source": [
    "## ✅ Conclusions\n",
    "\n",
    "- Certain airlines and destinations show significantly higher delay rates.\n",
    "- The `min_diff` feature captures time deviations and reveals operational issues.\n",
    "- Temporal and categorical variables like `period_day`, `high_season`, and `tipovuelo` provide important segmentations.\n",
    "- The problem is well-suited for a binary classification model.\n",
    "\n",
    "## ✅ Summary & Next Steps\n",
    "\n",
    "This notebook covered the full pipeline from data loading to model evaluation.\n",
    "\n",
    "Key takeaways:\n",
    "- Delay prediction is a feasible task using simple operational variables.\n",
    "- Features like flight type, airline, time of day, and seasonality provide valuable segmentation.\n",
    "- A Random Forest model achieved reasonable performance for classifying delays over 15 minutes.\n",
    "\n",
    "### Next steps:\n",
    "- Hyperparameter tuning with cross-validation\n",
    "- Feature selection and dimensionality reduction\n",
    "- Integration of external features (e.g., weather, traffic)\n",
    "- Deployment of the model as a service (API or dashboard)\n",
    "\n"
   ]
  }
 ],
 "metadata": {
  "kernelspec": {
   "display_name": "flight-delay-prediction",
   "language": "python",
   "name": "python3"
  },
  "language_info": {
   "codemirror_mode": {
    "name": "ipython",
    "version": 3
   },
   "file_extension": ".py",
   "mimetype": "text/x-python",
   "name": "python",
   "nbconvert_exporter": "python",
   "pygments_lexer": "ipython3",
   "version": "3.10.18"
  }
 },
 "nbformat": 4,
 "nbformat_minor": 5
}
